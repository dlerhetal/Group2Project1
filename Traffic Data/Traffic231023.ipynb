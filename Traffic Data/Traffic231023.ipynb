{
 "cells": [
  {
   "cell_type": "code",
   "execution_count": 1,
   "id": "dcb91a65",
   "metadata": {},
   "outputs": [],
   "source": [
    "import matplotlib.pyplot as plt\n",
    "import pandas as pd\n",
    "import numpy as np\n",
    "import requests\n",
    "import time\n",
    "from scipy.stats import linregress\n",
    "import json\n",
    "import csv\n",
    "import os\n",
    "pd.set_option('display.max_rows', None)\n",
    "import datetime as dt"
   ]
  },
  {
   "cell_type": "code",
   "execution_count": 2,
   "id": "04448641",
   "metadata": {},
   "outputs": [],
   "source": [
    "files = ['TN118.VOL',\n",
    "         'TN218.VOL',\n",
    "         'TN318.VOL',\n",
    "         'TN418.VOL',\n",
    "         'TN518.VOL',\n",
    "         'TN618.VOL',\n",
    "         'TN718.VOL',\n",
    "         'TN818.VOL',\n",
    "         'TN918.VOL',\n",
    "         'TN1018.VOL',\n",
    "         'TN1118.VOL',\n",
    "         'TN1218.VOL',\n",
    "         'TN119.VOL',\n",
    "         'TN219.VOL',\n",
    "         'TN319.VOL',\n",
    "         'TN419.VOL',\n",
    "         'TN519.VOL',\n",
    "         'TN619.VOL',\n",
    "         'TN719.VOL',\n",
    "         'TN819.VOL',\n",
    "         'TN919.VOL',\n",
    "         'TN1019.VOL',\n",
    "         'TN1119.VOL',\n",
    "         'TN1219.VOL',\n",
    "         'TN120.VOL',\n",
    "         'TN220.VOL',\n",
    "         'TN320.VOL',\n",
    "         'TN420.VOL',\n",
    "         'TN520.VOL',\n",
    "         'TN620.VOL',\n",
    "         'TN720.VOL',\n",
    "         'TN820.VOL',\n",
    "         'TN920.VOL',\n",
    "         'TN1020.VOL',\n",
    "         'TN1120.VOL',\n",
    "         'TN1220.VOL']\n",
    "\n",
    "fwf_list = []\n",
    "\n",
    "# Loop over the files\n",
    "for file in files:\n",
    "\n",
    "    x = pd.read_fwf(file,\n",
    "                         widths=[1,2,2,6,1,1,2,2,2,1,5,5,5,5,5,5,5,5,5,5,5,5,5,5,5,5,5,5,5,5,5,5,5,5,1],\n",
    "                         ignore_index = True)\n",
    "\n",
    "    \n",
    "    x.columns = ['record_type',\n",
    "                  'state_code',\n",
    "                  'f_system',\n",
    "                  'station_id', \n",
    "                  'travel_dir',\n",
    "                  'travel_lane',\n",
    "                  'year_record',\n",
    "                  'month_record',\n",
    "                  'day_record',\n",
    "                  'day_of_week',\n",
    "                  'hour_00', \n",
    "                  'hour_01', \n",
    "                  'hour_02', \n",
    "                  'hour_03', \n",
    "                  'hour_04',\n",
    "                  'hour_05',\n",
    "                  'hour_06', \n",
    "                  'hour_07',\n",
    "                  'hour_08',\n",
    "                  'hour_09',\n",
    "                  'hour_10',\n",
    "                  'hour_11',\n",
    "                  'hour_12',\n",
    "                  'hour_13',\n",
    "                  'hour_14',\n",
    "                  'hour_15',\n",
    "                  'hour_16',\n",
    "                  'hour_17',\n",
    "                  'hour_18',\n",
    "                  'hour_19',\n",
    "                  'hour_20',\n",
    "                  'hour_21',\n",
    "                  'hour_22',\n",
    "                  'hour_23',\n",
    "                  'restrictions']\n",
    "    fwf_list.append(x)\n",
    "    \n",
    "fwf_df = pd.concat(fwf_list)"
   ]
  },
  {
   "cell_type": "code",
   "execution_count": null,
   "id": "00bf06f9",
   "metadata": {
    "scrolled": true
   },
   "outputs": [],
   "source": [
    "fwf_df"
   ]
  },
  {
   "cell_type": "code",
   "execution_count": null,
   "id": "782e78d1",
   "metadata": {},
   "outputs": [],
   "source": [
    "#fwf_df.to_csv('fwf.csv')"
   ]
  },
  {
   "cell_type": "code",
   "execution_count": null,
   "id": "e14563b0",
   "metadata": {},
   "outputs": [],
   "source": [
    "import pandas as pd\n",
    "\n",
    "files = ['TN121.VOL',\n",
    "         'TN221.VOL',\n",
    "         'TN321.VOL',\n",
    "         'TN421.VOL',\n",
    "         'TN521.VOL',\n",
    "         'TN621.VOL',\n",
    "         'TN721.VOL',\n",
    "         'TN821.VOL',\n",
    "         'TN921.VOL',\n",
    "         'TN1021.VOL',\n",
    "         'TN1121.VOL',\n",
    "         'TN1221.VOL',\n",
    "         'TN122.VOL',\n",
    "         'TN222.VOL',\n",
    "         'TN322.VOL',\n",
    "         'TN422.VOL',\n",
    "         'TN522.VOL',\n",
    "         'TN622.VOL',\n",
    "         'TN722.VOL',\n",
    "         'TN822.VOL',\n",
    "         'TN922.VOL',\n",
    "         'TN1022.VOL',\n",
    "         'TN1122.VOL',\n",
    "         'TN1222.VOL']\n",
    "\n",
    "pipe_list = []\n",
    "\n",
    "# Loop over the files\n",
    "for file in files:\n",
    "\n",
    "    pipe_df = pd.read_csv(file, delimiter='|')\n",
    "\n",
    "    pipe_list.append(pipe_df)\n",
    "    \n",
    "pipe_df = pd.concat(pipe_list)"
   ]
  },
  {
   "cell_type": "code",
   "execution_count": null,
   "id": "e2064688",
   "metadata": {},
   "outputs": [],
   "source": [
    "pipe_df"
   ]
  },
  {
   "cell_type": "code",
   "execution_count": null,
   "id": "5769e2ee",
   "metadata": {},
   "outputs": [],
   "source": [
    "# Concatenate the dataframes along the rows\n",
    "counts_df = pd.concat([fwf_df, pipe_df])\n",
    "counts_df"
   ]
  },
  {
   "cell_type": "code",
   "execution_count": null,
   "id": "3777ddfa",
   "metadata": {},
   "outputs": [],
   "source": [
    "#counts_df.to_csv('traffic.csv')"
   ]
  },
  {
   "cell_type": "code",
   "execution_count": null,
   "id": "d5c57d03",
   "metadata": {},
   "outputs": [],
   "source": [
    "j = [3, 33, 23, 474, 4, 555]\n",
    "\n",
    "for i in j:\n",
    "\n",
    "    station_df = counts_df.loc[counts_df['station_id'].isin(j)]\n",
    "    \n",
    "#station_df.to_csv('traffic.csv')"
   ]
  },
  {
   "cell_type": "code",
   "execution_count": null,
   "id": "e7a1edef",
   "metadata": {},
   "outputs": [],
   "source": [
    "station_df"
   ]
  },
  {
   "cell_type": "code",
   "execution_count": null,
   "id": "a7ec1bf1",
   "metadata": {},
   "outputs": [],
   "source": [
    "station_df = pd.read_csv('traffic.csv', low_memory=False)"
   ]
  },
  {
   "cell_type": "code",
   "execution_count": null,
   "id": "6d326d4f",
   "metadata": {
    "scrolled": true
   },
   "outputs": [],
   "source": [
    "station_df"
   ]
  },
  {
   "cell_type": "code",
   "execution_count": null,
   "id": "01fd640b",
   "metadata": {},
   "outputs": [],
   "source": [
    "#day_df.to_csv('day_count.csv')"
   ]
  },
  {
   "cell_type": "code",
   "execution_count": null,
   "id": "bda99ee7",
   "metadata": {},
   "outputs": [],
   "source": [
    "segments_df = pd.read_csv('traffic_data.csv', low_memory=False)\n",
    "segments_df"
   ]
  },
  {
   "cell_type": "code",
   "execution_count": null,
   "id": "f461a784",
   "metadata": {
    "scrolled": true
   },
   "outputs": [],
   "source": [
    "segments_df[\"day_of_week\"] = segments_df[\"day_of_week\"].replace([1],'Sunday')\n",
    "segments_df[\"day_of_week\"] = segments_df[\"day_of_week\"].replace([2],'Monday')\n",
    "segments_df[\"day_of_week\"] = segments_df[\"day_of_week\"].replace([3],'Tuesday')\n",
    "segments_df[\"day_of_week\"] = segments_df[\"day_of_week\"].replace([4],'Wednesday')\n",
    "segments_df[\"day_of_week\"] = segments_df[\"day_of_week\"].replace([5],'Thursday')\n",
    "segments_df[\"day_of_week\"] = segments_df[\"day_of_week\"].replace([6],'Friday')\n",
    "segments_df[\"day_of_week\"] = segments_df[\"day_of_week\"].replace([7],'Saturday')\n",
    "segments_df.head()"
   ]
  },
  {
   "cell_type": "code",
   "execution_count": null,
   "id": "362846f0",
   "metadata": {
    "scrolled": false
   },
   "outputs": [],
   "source": [
    "segments_df = pd.DataFrame(segments_df, columns=[\"full_date\", \"station_id\", \"day_of_week\", \"morning\", \"afternoon\", \"evening\", 'full_day'])\n",
    "segments_df.head()"
   ]
  },
  {
   "cell_type": "code",
   "execution_count": null,
   "id": "e41d94a1",
   "metadata": {},
   "outputs": [],
   "source": [
    "segments_df['full_date'] = pd.to_datetime(segments_df['full_date'], format='%m%d%Y')"
   ]
  },
  {
   "cell_type": "code",
   "execution_count": null,
   "id": "ac093763",
   "metadata": {
    "scrolled": true
   },
   "outputs": [],
   "source": [
    "selected_count_df = segments_df.groupby(['full_date', 'day_of_week'], sort=True)\n",
    "selected_count_df = selected_count_df[['morning', 'afternoon', 'evening', 'full_day']].sum()\n",
    "selected_count_df"
   ]
  },
  {
   "cell_type": "code",
   "execution_count": null,
   "id": "4b4892f1",
   "metadata": {},
   "outputs": [],
   "source": [
    "#selected_count_df.to_csv('selected_count_df.csv')"
   ]
  },
  {
   "cell_type": "code",
   "execution_count": null,
   "id": "5c9a42a6",
   "metadata": {},
   "outputs": [],
   "source": [
    "selected_count_df.boxplot([\"morning\", \"afternoon\", \"evening\"], labels=[\"morning\", \"afternoon\", \"evening\"])\n",
    "\n",
    "plt.savefig('day_time_boxplot')\n",
    "plt.show()"
   ]
  },
  {
   "cell_type": "code",
   "execution_count": null,
   "id": "6e90d60e",
   "metadata": {},
   "outputs": [],
   "source": [
    "car_quartiles = selected_count_df[\"full_day\"].quantile([.25,.5,.75])\n",
    "car_lowerq = car_quartiles[0.25]\n",
    "car_upperq = car_quartiles[0.75]\n",
    "car_iqr = car_upperq-car_lowerq\n",
    "car_lowerb = car_lowerq - (1.5*car_iqr)\n",
    "car_upperb = car_upperq + (1.5*car_iqr)\n",
    "print(f'full day quartiles are:')\n",
    "print(car_quartiles)\n",
    "print(f'lower quartile is {car_lowerq}')\n",
    "print(f'upper quartile is {car_upperq}')\n",
    "print(f'IQR is {car_iqr}')\n",
    "print(f'upper bound is {car_upperb}')\n",
    "print(f'lower bound is {car_lowerb}')"
   ]
  },
  {
   "cell_type": "code",
   "execution_count": null,
   "id": "13436599",
   "metadata": {},
   "outputs": [],
   "source": [
    "selected_count_df.boxplot([\"full_day\"])\n",
    "plt.show()"
   ]
  },
  {
   "cell_type": "code",
   "execution_count": null,
   "id": "1c9bd031",
   "metadata": {},
   "outputs": [],
   "source": [
    "selected_count_df.plot.line(y='full_day')\n",
    "#selected_count_df.plot.line(y='afternoon')\n",
    "#selected_count_df.plot.line(y='evening')\n",
    "plt.ylim(0, 500000)\n",
    "#x_axis = selected_count_df[\"full_date\"]\n",
    "#y_axis = selected_count_df[\"morning\"]\n",
    "#plt.bar(x_axis, y_axis)\n",
    "#plt.title(\"Accidents Per Year by Day of Week\")\n",
    "#plt.xlabel(\"Year\")\n",
    "#plt.ylabel(\"# of Accidents\")\n",
    "plt.show()"
   ]
  },
  {
   "cell_type": "code",
   "execution_count": null,
   "id": "da4adee5",
   "metadata": {},
   "outputs": [],
   "source": [
    "cars_per_day = segments_df.groupby([\"day_of_week\", \"full_date\"])\n",
    "cars_per_day = cars_per_day[['morning', 'afternoon', 'evening', 'full_day']].sum()\n",
    "cars_per_day"
   ]
  },
  {
   "cell_type": "code",
   "execution_count": null,
   "id": "e5f932c5",
   "metadata": {},
   "outputs": [],
   "source": [
    "cars_per_day.plot.line(y=\"full_day\")\n",
    "# x1 = cars_per_day[\"full_date\"]\n",
    "# y1 = cars_per_wday([\"full_day\"], index == \"Sunday\")\n",
    "# plt.figure(figsize=(8,6))\n",
    "# plt.plot(x1, y1, linewidth=2, label=\"Sunday\")\n",
    "# plt.plot(x1, y2, linewidth=2, label=\"Monday\")\n",
    "# plt.plot(x1, y3, linewidth=2, label=\"Tuesday\")\n",
    "# plt.plot(x1, y4, linewidth=2, label=\"Wednesday\")\n",
    "# plt.plot(x1, y5, linewidth=5, label=\"Thursday\")\n",
    "# plt.plot(x1, y6, linewidth=2, label=\"Friday\")\n",
    "# plt.plot(x1, y7, linewidth=2, label=\"Saturday\")\n",
    "plt.title(\"Traffic by Date (2018-2022)\")\n",
    "plt.xlabel(\"Year\")\n",
    "plt.ylabel(\"Amount of Traffic\")\n",
    "plt.legend()\n",
    "#plt.savefig('Traffic_By_Date')\n",
    "plt.show()"
   ]
  },
  {
   "cell_type": "code",
   "execution_count": null,
   "id": "429887eb",
   "metadata": {},
   "outputs": [],
   "source": []
  }
 ],
 "metadata": {
  "kernelspec": {
   "display_name": "Python 3 (ipykernel)",
   "language": "python",
   "name": "python3"
  },
  "language_info": {
   "codemirror_mode": {
    "name": "ipython",
    "version": 3
   },
   "file_extension": ".py",
   "mimetype": "text/x-python",
   "name": "python",
   "nbconvert_exporter": "python",
   "pygments_lexer": "ipython3",
   "version": "3.11.5"
  }
 },
 "nbformat": 4,
 "nbformat_minor": 5
}
